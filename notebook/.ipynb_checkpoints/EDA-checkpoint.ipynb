{
 "cells": [
  {
   "cell_type": "code",
   "execution_count": 1,
   "id": "dd134ec2-6456-4f2b-9c05-fa80b7aedf12",
   "metadata": {},
   "outputs": [],
   "source": [
    "import sys\n",
    "import os\n",
    "\n",
    "# Add the 'scripts' folder to the system path\n",
    "script_path = os.path.abspath('../scripts')  \n",
    "sys.path.append(script_path)"
   ]
  },
  {
   "cell_type": "code",
   "execution_count": 2,
   "id": "4ca75fce-ad9c-4782-a6e5-7d24615e2f83",
   "metadata": {},
   "outputs": [
    {
     "name": "stdout",
     "output_type": "stream",
     "text": [
      "An error occurred: [Errno 2] No such file or directory: 'data.txt'\n"
     ]
    }
   ],
   "source": [
    "import txt_to_csv as tc\n",
    "\n",
    "# Call the function\n",
    "tc.convert_txt_to_csv()\n"
   ]
  },
  {
   "cell_type": "code",
   "execution_count": null,
   "id": "c51530d0-0942-4447-a5ab-1f64a449ebfd",
   "metadata": {},
   "outputs": [],
   "source": []
  }
 ],
 "metadata": {
  "kernelspec": {
   "display_name": "Python (venv)",
   "language": "python",
   "name": "venv"
  },
  "language_info": {
   "codemirror_mode": {
    "name": "ipython",
    "version": 3
   },
   "file_extension": ".py",
   "mimetype": "text/x-python",
   "name": "python",
   "nbconvert_exporter": "python",
   "pygments_lexer": "ipython3",
   "version": "3.12.4"
  }
 },
 "nbformat": 4,
 "nbformat_minor": 5
}
