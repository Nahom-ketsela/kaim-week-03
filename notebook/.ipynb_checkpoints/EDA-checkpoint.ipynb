{
 "cells": [
  {
   "cell_type": "code",
   "execution_count": 1,
   "id": "dd134ec2-6456-4f2b-9c05-fa80b7aedf12",
   "metadata": {},
   "outputs": [],
   "source": [
    "import sys\n",
    "import os\n",
    "\n",
    "# Add the 'scripts' folder to the system path\n",
    "script_path = os.path.abspath('../scripts')  \n",
    "sys.path.append(script_path)"
   ]
  },
  {
   "cell_type": "code",
   "execution_count": 2,
   "id": "c51530d0-0942-4447-a5ab-1f64a449ebfd",
   "metadata": {},
   "outputs": [
    {
     "name": "stdout",
     "output_type": "stream",
     "text": [
      "Error loading data: Unable to allocate 13.0 MiB for an array with shape (34, 50000) and data type object\n"
     ]
    }
   ],
   "source": [
    "import EDA_analysis as eda\n",
    "\n",
    "df= eda.load_data('C:\\\\Users\\\\HP\\\\OneDrive\\\\Desktop\\\\ai2\\\\kaim-week-03\\\\data\\\\MachineLearningRating_v3.csv')"
   ]
  },
  {
   "cell_type": "code",
   "execution_count": 3,
   "id": "387738af-ed1a-43ea-86b3-a1e9eb581d93",
   "metadata": {},
   "outputs": [
    {
     "ename": "AttributeError",
     "evalue": "'NoneType' object has no attribute 'data_summarization'",
     "output_type": "error",
     "traceback": [
      "\u001b[1;31m---------------------------------------------------------------------------\u001b[0m",
      "\u001b[1;31mAttributeError\u001b[0m                            Traceback (most recent call last)",
      "Cell \u001b[1;32mIn[3], line 1\u001b[0m\n\u001b[1;32m----> 1\u001b[0m \u001b[43mdf\u001b[49m\u001b[38;5;241;43m.\u001b[39;49m\u001b[43mdata_summarization\u001b[49m(df)\n",
      "\u001b[1;31mAttributeError\u001b[0m: 'NoneType' object has no attribute 'data_summarization'"
     ]
    }
   ],
   "source": [
    "df.data_summarization(df)"
   ]
  },
  {
   "cell_type": "code",
   "execution_count": null,
   "id": "c0bf0c9c-1bbc-4ce6-9391-e89080bf6bb5",
   "metadata": {},
   "outputs": [],
   "source": [
    "import sys\n",
    "print(sys.executable)\n"
   ]
  },
  {
   "cell_type": "code",
   "execution_count": null,
   "id": "272a7f7b-ee27-4e93-bc4f-5497ed3ddac7",
   "metadata": {},
   "outputs": [],
   "source": [
    "import dask.dataframe as dd"
   ]
  },
  {
   "cell_type": "code",
   "execution_count": null,
   "id": "eb5915b1-322b-4a33-9068-e6d2d3332a25",
   "metadata": {},
   "outputs": [],
   "source": []
  }
 ],
 "metadata": {
  "kernelspec": {
   "display_name": "Python (venv)",
   "language": "python",
   "name": "venv"
  },
  "language_info": {
   "codemirror_mode": {
    "name": "ipython",
    "version": 3
   },
   "file_extension": ".py",
   "mimetype": "text/x-python",
   "name": "python",
   "nbconvert_exporter": "python",
   "pygments_lexer": "ipython3",
   "version": "3.12.4"
  }
 },
 "nbformat": 4,
 "nbformat_minor": 5
}
