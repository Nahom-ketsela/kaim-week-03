{
 "cells": [
  {
   "cell_type": "code",
   "execution_count": null,
   "id": "dd134ec2-6456-4f2b-9c05-fa80b7aedf12",
   "metadata": {},
   "outputs": [],
   "source": [
    "import sys\n",
    "import os\n",
    "\n",
    "# Add the 'scripts' folder to the system path\n",
    "script_path = os.path.abspath('../scripts')  \n",
    "sys.path.append(script_path)"
   ]
  },
  {
   "cell_type": "code",
   "execution_count": null,
   "id": "c51530d0-0942-4447-a5ab-1f64a449ebfd",
   "metadata": {},
   "outputs": [],
   "source": [
    "import EDA_analysis as eda\n",
    "\n",
    "# function to load the csv file\n",
    "\n",
    "df= eda.load_data('C:\\\\Users\\\\HP\\\\OneDrive\\\\Desktop\\\\ai2\\\\kaim-week-03\\\\data\\\\MachineLearningRating_v3.csv')"
   ]
  },
  {
   "cell_type": "code",
   "execution_count": null,
   "id": "387738af-ed1a-43ea-86b3-a1e9eb581d93",
   "metadata": {},
   "outputs": [],
   "source": [
    "#function for exploring the data\n",
    "eda.data_summarization(df)"
   ]
  },
  {
   "cell_type": "code",
   "execution_count": null,
   "id": "a721a082-3c0f-4db3-bd13-2d3948175649",
   "metadata": {},
   "outputs": [],
   "source": [
    "# review for columns data type\n",
    "eda.review_data_structure(df)"
   ]
  },
  {
   "cell_type": "code",
   "execution_count": null,
   "id": "669d30e8-d25f-4f69-b56a-a9cd9dd5eed1",
   "metadata": {},
   "outputs": [],
   "source": [
    "#descriptive analysis\n",
    "eda.descriptive_statistics(df)"
   ]
  },
  {
   "cell_type": "code",
   "execution_count": null,
   "id": "c0bf0c9c-1bbc-4ce6-9391-e89080bf6bb5",
   "metadata": {},
   "outputs": [],
   "source": [
    "# cheking for missing values\n",
    "eda.data_quality_assessment(df)"
   ]
  },
  {
   "cell_type": "code",
   "execution_count": null,
   "id": "eb5915b1-322b-4a33-9068-e6d2d3332a25",
   "metadata": {},
   "outputs": [],
   "source": [
    "#handled the missing value\n",
    "df = eda.handle_missing_values(df)\n",
    "print(\"Remaining missing values:\\n\", df.isnull().sum())"
   ]
  },
  {
   "cell_type": "code",
   "execution_count": null,
   "id": "b2fd8881-0a87-4a63-991d-e15b35061215",
   "metadata": {},
   "outputs": [],
   "source": [
    "# univariate analysis with histograms for numerical columns and bar charts for categorical columns\n",
    "eda.univariate_analysis(df)"
   ]
  },
  {
   "cell_type": "code",
   "execution_count": null,
   "id": "958f1cdb-fcd9-4017-b170-994a7038a792",
   "metadata": {},
   "outputs": [],
   "source": [
    "eda.bivariate_analysis(df)"
   ]
  },
  {
   "cell_type": "code",
   "execution_count": null,
   "id": "5a58610d-0da3-48b5-a5fc-6fe228e13b3b",
   "metadata": {},
   "outputs": [],
   "source": []
  }
 ],
 "metadata": {
  "kernelspec": {
   "display_name": "Python (venv)",
   "language": "python",
   "name": "venv"
  },
  "language_info": {
   "codemirror_mode": {
    "name": "ipython",
    "version": 3
   },
   "file_extension": ".py",
   "mimetype": "text/x-python",
   "name": "python",
   "nbconvert_exporter": "python",
   "pygments_lexer": "ipython3",
   "version": "3.12.4"
  }
 },
 "nbformat": 4,
 "nbformat_minor": 5
}
