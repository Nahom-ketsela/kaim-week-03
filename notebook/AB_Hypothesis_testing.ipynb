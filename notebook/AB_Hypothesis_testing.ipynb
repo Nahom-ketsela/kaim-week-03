{
 "cells": [
  {
   "cell_type": "code",
   "execution_count": 1,
   "id": "dbcd3672-ea7e-4f1f-b0e1-d3bf028aa9ce",
   "metadata": {},
   "outputs": [],
   "source": [
    "import sys\n",
    "import os\n",
    "\n",
    "# Add the 'scripts' folder to the system path\n",
    "script_path = os.path.abspath('../scripts')  \n",
    "sys.path.append(script_path)"
   ]
  },
  {
   "cell_type": "code",
   "execution_count": 2,
   "id": "dd6e787f-87f3-4481-bb42-515bbc6c887c",
   "metadata": {},
   "outputs": [
    {
     "name": "stderr",
     "output_type": "stream",
     "text": [
      "C:\\Users\\HP\\OneDrive\\Desktop\\ai2\\kaim-week-03\\scripts\\EDA_analysis.py:30: DtypeWarning: Columns (32,37) have mixed types. Specify dtype option on import or set low_memory=False.\n",
      "  df = pd.read_csv(file_path, dtype=dtype_dict)\n"
     ]
    },
    {
     "name": "stdout",
     "output_type": "stream",
     "text": [
      "Data successfully loaded. Shape: (1000098, 52)\n"
     ]
    }
   ],
   "source": [
    "import EDA_analysis as eda\n",
    "\n",
    "# function to load the csv file\n",
    "\n",
    "df= eda.load_data('C:\\\\Users\\\\HP\\\\OneDrive\\\\Desktop\\\\ai2\\\\kaim-week-03\\\\data\\\\MachineLearningRating_v3.csv')"
   ]
  },
  {
   "cell_type": "code",
   "execution_count": 3,
   "id": "3526e4f8-69eb-42bd-8493-bcbd8317c232",
   "metadata": {},
   "outputs": [
    {
     "name": "stdout",
     "output_type": "stream",
     "text": [
      "\n",
      "Missing Values:\n",
      "Bank                        145961\n",
      "AccountType                  40232\n",
      "MaritalStatus                 8259\n",
      "Gender                        9536\n",
      "mmcode                         552\n",
      "VehicleType                    552\n",
      "make                           552\n",
      "Model                          552\n",
      "Cylinders                      552\n",
      "cubiccapacity                  552\n",
      "kilowatts                      552\n",
      "bodytype                       552\n",
      "NumberOfDoors                  552\n",
      "VehicleIntroDate               552\n",
      "CustomValueEstimate         779642\n",
      "CapitalOutstanding               2\n",
      "NewVehicle                  153295\n",
      "WrittenOff                  641901\n",
      "Rebuilt                     641901\n",
      "Converted                   641901\n",
      "CrossBorder                 999400\n",
      "NumberOfVehiclesInFleet    1000098\n",
      "dtype: int64\n"
     ]
    }
   ],
   "source": [
    "# cheking for missing values\n",
    "eda.data_quality_assessment(df)"
   ]
  },
  {
   "cell_type": "code",
   "execution_count": 4,
   "id": "eb87ce29-2761-4bb4-bbad-0eaad800c8cb",
   "metadata": {},
   "outputs": [
    {
     "name": "stdout",
     "output_type": "stream",
     "text": [
      "Remaining missing values:\n",
      " UnderwrittenCoverID          0\n",
      "PolicyID                     0\n",
      "TransactionMonth             0\n",
      "IsVATRegistered              0\n",
      "Citizenship                  0\n",
      "                            ..\n",
      "Product_missing              0\n",
      "StatutoryClass_missing       0\n",
      "StatutoryRiskType_missing    0\n",
      "TotalPremium_missing         0\n",
      "TotalClaims_missing          0\n",
      "Length: 92, dtype: int64\n"
     ]
    }
   ],
   "source": [
    "#handled the missing value\n",
    "data = eda.handle_missing_values(df)\n",
    "print(\"Remaining missing values:\\n\", df.isnull().sum())"
   ]
  },
  {
   "cell_type": "code",
   "execution_count": 5,
   "id": "bd6470e1-7683-4b4e-adee-160155863617",
   "metadata": {},
   "outputs": [
    {
     "data": {
      "text/plain": [
       "{'Test': 'ANOVA',\n",
       " 'Null Hypothesis': 'No risk differences across provinces',\n",
       " 'F-Statistic': np.float64(5.849413762407606),\n",
       " 'p-Value': np.float64(1.6782057588675903e-07),\n",
       " 'Reject Null': np.True_}"
      ]
     },
     "execution_count": 5,
     "metadata": {},
     "output_type": "execute_result"
    }
   ],
   "source": [
    "# import hypothesis testing module\n",
    "import AB_hypothesis as abh\n",
    "\n",
    "# test if there are significant risk differences (Total Claims) across provinces\n",
    "abh.test_risk_across_provinces(data)"
   ]
  },
  {
   "cell_type": "code",
   "execution_count": 6,
   "id": "3604b648-9250-44a6-a3ca-5a16d63a9836",
   "metadata": {},
   "outputs": [
    {
     "data": {
      "text/plain": [
       "{'Test': 'ANOVA',\n",
       " 'Null Hypothesis': 'No risk differences between ZIP codes',\n",
       " 'F-Statistic': np.float64(0.9419762214391849),\n",
       " 'p-Value': np.float64(0.8906511279164051),\n",
       " 'Reject Null': np.False_}"
      ]
     },
     "execution_count": 6,
     "metadata": {},
     "output_type": "execute_result"
    }
   ],
   "source": [
    "# Test if there are significant risk differences (Total Claims) between ZIP codes\n",
    "abh.test_risk_between_zipcodes(data)"
   ]
  },
  {
   "cell_type": "code",
   "execution_count": 7,
   "id": "8f2c0221-db1a-4a05-8eb3-56550c6e8c9e",
   "metadata": {},
   "outputs": [
    {
     "data": {
      "text/plain": [
       "{'Test': 'ANOVA',\n",
       " 'Null Hypothesis': 'No significant margin differences between ZIP codes',\n",
       " 'F-Statistic': np.float64(0.7707184576959515),\n",
       " 'p-Value': np.float64(0.9999998177863838),\n",
       " 'Reject Null': np.False_}"
      ]
     },
     "execution_count": 7,
     "metadata": {},
     "output_type": "execute_result"
    }
   ],
   "source": [
    "# Test if there are significant margin differences (Profit Margin) between ZIP codes\n",
    "abh.test_margin_difference_between_zipcodes(data)"
   ]
  },
  {
   "cell_type": "code",
   "execution_count": 8,
   "id": "f9396ee6-7b88-4eea-9463-cfdda83420b8",
   "metadata": {},
   "outputs": [
    {
     "data": {
      "text/plain": [
       "{'Test': 'T-Test',\n",
       " 'Null Hypothesis': 'No significant risk differences between women and men',\n",
       " 'T-Statistic': np.float64(-0.296353891400699),\n",
       " 'p-Value': np.float64(0.7669656471629474),\n",
       " 'Reject Null': np.False_}"
      ]
     },
     "execution_count": 8,
     "metadata": {},
     "output_type": "execute_result"
    }
   ],
   "source": [
    "# Test if there are significant risk differences (Total Claims) between genders\n",
    "abh.test_risk_difference_gender(data)"
   ]
  },
  {
   "cell_type": "code",
   "execution_count": null,
   "id": "973ecc07-b1e2-4b35-9710-7e60d8a8b2a3",
   "metadata": {},
   "outputs": [],
   "source": [
    "abh.run_all_tests(data)"
   ]
  },
  {
   "cell_type": "code",
   "execution_count": null,
   "id": "dce7355e-1fbe-4c9b-83ff-89eea53d423c",
   "metadata": {},
   "outputs": [],
   "source": []
  }
 ],
 "metadata": {
  "kernelspec": {
   "display_name": "Python (venv)",
   "language": "python",
   "name": "venv"
  },
  "language_info": {
   "codemirror_mode": {
    "name": "ipython",
    "version": 3
   },
   "file_extension": ".py",
   "mimetype": "text/x-python",
   "name": "python",
   "nbconvert_exporter": "python",
   "pygments_lexer": "ipython3",
   "version": "3.12.4"
  }
 },
 "nbformat": 4,
 "nbformat_minor": 5
}
