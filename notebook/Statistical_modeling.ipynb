{
 "cells": [
  {
   "cell_type": "code",
   "execution_count": 1,
   "id": "675b0612-e152-48ab-99b4-63bb373402b2",
   "metadata": {},
   "outputs": [],
   "source": [
    "import sys\n",
    "import os\n",
    "\n",
    "# Add the 'scripts' folder to the system path\n",
    "script_path = os.path.abspath('../scripts')  \n",
    "sys.path.append(script_path)"
   ]
  },
  {
   "cell_type": "code",
   "execution_count": 2,
   "id": "cfd85e96-4844-40e8-b574-8960cd931ef4",
   "metadata": {},
   "outputs": [
    {
     "name": "stderr",
     "output_type": "stream",
     "text": [
      "C:\\Users\\HP\\OneDrive\\Desktop\\ai2\\kaim-week-03\\scripts\\EDA_analysis.py:30: DtypeWarning: Columns (32,37) have mixed types. Specify dtype option on import or set low_memory=False.\n",
      "  df = pd.read_csv(file_path, dtype=dtype_dict)\n"
     ]
    },
    {
     "name": "stdout",
     "output_type": "stream",
     "text": [
      "Data successfully loaded. Shape: (1000098, 52)\n"
     ]
    }
   ],
   "source": [
    "import EDA_analysis as eda\n",
    "\n",
    "# function to load the csv file\n",
    "\n",
    "data= eda.load_data('C:\\\\Users\\\\HP\\\\OneDrive\\\\Desktop\\\\ai2\\\\kaim-week-03\\\\data\\\\MachineLearningRating_v3.csv')"
   ]
  },
  {
   "cell_type": "code",
   "execution_count": 3,
   "id": "06677520-0f6f-48d9-af07-9e26d638d775",
   "metadata": {},
   "outputs": [
    {
     "name": "stdout",
     "output_type": "stream",
     "text": [
      "Requirement already satisfied: shap in c:\\users\\hp\\onedrive\\desktop\\kaim\\kaim-week-02\\venv\\lib\\site-packages (0.46.0)\n",
      "Requirement already satisfied: numpy in c:\\users\\hp\\onedrive\\desktop\\kaim\\kaim-week-02\\venv\\lib\\site-packages (from shap) (2.0.2)\n",
      "Requirement already satisfied: scipy in c:\\users\\hp\\onedrive\\desktop\\kaim\\kaim-week-02\\venv\\lib\\site-packages (from shap) (1.14.1)\n",
      "Requirement already satisfied: scikit-learn in c:\\users\\hp\\onedrive\\desktop\\kaim\\kaim-week-02\\venv\\lib\\site-packages (from shap) (1.6.0)\n",
      "Requirement already satisfied: pandas in c:\\users\\hp\\onedrive\\desktop\\kaim\\kaim-week-02\\venv\\lib\\site-packages (from shap) (2.2.3)\n",
      "Requirement already satisfied: tqdm>=4.27.0 in c:\\users\\hp\\onedrive\\desktop\\kaim\\kaim-week-02\\venv\\lib\\site-packages (from shap) (4.67.1)\n",
      "Requirement already satisfied: packaging>20.9 in c:\\users\\hp\\onedrive\\desktop\\kaim\\kaim-week-02\\venv\\lib\\site-packages (from shap) (24.2)\n",
      "Requirement already satisfied: slicer==0.0.8 in c:\\users\\hp\\onedrive\\desktop\\kaim\\kaim-week-02\\venv\\lib\\site-packages (from shap) (0.0.8)\n",
      "Requirement already satisfied: numba in c:\\users\\hp\\onedrive\\desktop\\kaim\\kaim-week-02\\venv\\lib\\site-packages (from shap) (0.60.0)\n",
      "Requirement already satisfied: cloudpickle in c:\\users\\hp\\onedrive\\desktop\\kaim\\kaim-week-02\\venv\\lib\\site-packages (from shap) (3.1.0)\n",
      "Requirement already satisfied: colorama in c:\\users\\hp\\onedrive\\desktop\\kaim\\kaim-week-02\\venv\\lib\\site-packages (from tqdm>=4.27.0->shap) (0.4.6)\n",
      "Requirement already satisfied: llvmlite<0.44,>=0.43.0dev0 in c:\\users\\hp\\onedrive\\desktop\\kaim\\kaim-week-02\\venv\\lib\\site-packages (from numba->shap) (0.43.0)\n",
      "Requirement already satisfied: python-dateutil>=2.8.2 in c:\\users\\hp\\onedrive\\desktop\\kaim\\kaim-week-02\\venv\\lib\\site-packages (from pandas->shap) (2.9.0.post0)\n",
      "Requirement already satisfied: pytz>=2020.1 in c:\\users\\hp\\onedrive\\desktop\\kaim\\kaim-week-02\\venv\\lib\\site-packages (from pandas->shap) (2024.2)\n",
      "Requirement already satisfied: tzdata>=2022.7 in c:\\users\\hp\\onedrive\\desktop\\kaim\\kaim-week-02\\venv\\lib\\site-packages (from pandas->shap) (2024.2)\n",
      "Requirement already satisfied: joblib>=1.2.0 in c:\\users\\hp\\onedrive\\desktop\\kaim\\kaim-week-02\\venv\\lib\\site-packages (from scikit-learn->shap) (1.4.2)\n",
      "Requirement already satisfied: threadpoolctl>=3.1.0 in c:\\users\\hp\\onedrive\\desktop\\kaim\\kaim-week-02\\venv\\lib\\site-packages (from scikit-learn->shap) (3.5.0)\n",
      "Requirement already satisfied: six>=1.5 in c:\\users\\hp\\onedrive\\desktop\\kaim\\kaim-week-02\\venv\\lib\\site-packages (from python-dateutil>=2.8.2->pandas->shap) (1.17.0)\n",
      "Note: you may need to restart the kernel to use updated packages.\n",
      "^C\n",
      "Note: you may need to restart the kernel to use updated packages.\n",
      "Requirement already satisfied: xgboost in c:\\users\\hp\\onedrive\\desktop\\kaim\\kaim-week-02\\venv\\lib\\site-packages (2.1.3)\n",
      "Requirement already satisfied: numpy in c:\\users\\hp\\onedrive\\desktop\\kaim\\kaim-week-02\\venv\\lib\\site-packages (from xgboost) (2.0.2)\n",
      "Requirement already satisfied: scipy in c:\\users\\hp\\onedrive\\desktop\\kaim\\kaim-week-02\\venv\\lib\\site-packages (from xgboost) (1.14.1)\n"
     ]
    }
   ],
   "source": [
    "%pip install shap\n",
    "%pip install xgboost"
   ]
  },
  {
   "cell_type": "code",
   "execution_count": 3,
   "id": "3886989b-c861-4e13-97cf-a3b727460742",
   "metadata": {},
   "outputs": [],
   "source": [
    "import pandas as pd\n",
    "import numpy as np\n",
    "from sklearn.model_selection import train_test_split\n",
    "from sklearn.linear_model import LinearRegression\n",
    "from sklearn.ensemble import RandomForestRegressor\n",
    "from xgboost import XGBRegressor\n",
    "from sklearn.metrics import mean_absolute_error, mean_squared_error, r2_score\n",
    "import shap"
   ]
  },
  {
   "cell_type": "code",
   "execution_count": 4,
   "id": "0b032854-0917-4576-8e01-4f978a435a8f",
   "metadata": {},
   "outputs": [],
   "source": [
    "# Data Preparation\n",
    "data.fillna(data.median(numeric_only=True), inplace=True)\n",
    "data.dropna(subset=['TotalPremium', 'TotalClaims'], inplace=True)\n",
    "\n",
    "# Encoding Categorical Data\n",
    "categorical_cols = data.select_dtypes(include=['object']).columns\n",
    "encoded_data = pd.get_dummies(data, columns=categorical_cols, drop_first=True)\n",
    "\n",
    "# Feature Engineering\n",
    "encoded_data['PremiumToClaimsRatio'] = encoded_data['TotalPremium'] / (encoded_data['TotalClaims'] + 1)"
   ]
  },
  {
   "cell_type": "code",
   "execution_count": null,
   "id": "56e065fc-dc40-4f71-8452-e5c78c21efe5",
   "metadata": {},
   "outputs": [],
   "source": []
  }
 ],
 "metadata": {
  "kernelspec": {
   "display_name": "Python (venv)",
   "language": "python",
   "name": "venv"
  },
  "language_info": {
   "codemirror_mode": {
    "name": "ipython",
    "version": 3
   },
   "file_extension": ".py",
   "mimetype": "text/x-python",
   "name": "python",
   "nbconvert_exporter": "python",
   "pygments_lexer": "ipython3",
   "version": "3.12.4"
  }
 },
 "nbformat": 4,
 "nbformat_minor": 5
}
